{
 "cells": [
  {
   "cell_type": "code",
   "execution_count": 58,
   "metadata": {},
   "outputs": [],
   "source": [
    "import speech_recognition as sr\n",
    "import pyaudio\n",
    "import selenium\n",
    "from selenium.webdriver import Edge\n",
    "import webbrowser as wb"
   ]
  },
  {
   "cell_type": "markdown",
   "metadata": {},
   "source": [
    "### using selenium to search results"
   ]
  },
  {
   "cell_type": "code",
   "execution_count": 63,
   "metadata": {},
   "outputs": [
    {
     "name": "stdout",
     "output_type": "stream",
     "text": [
      "speak..\n",
      "Text: open browser speech recognition python\n"
     ]
    }
   ],
   "source": [
    "browser = Edge(\"C:/Downloads/msedgedriver.exe\")\n",
    "\n",
    "browser.get(\"https://google.com\")\n",
    "\n",
    "search = browser.find_element_by_class_name(\"gLFyf\")\n",
    "submit = browser.find_element_by_class_name(\"gNO89b\")\n",
    "\n",
    "# Reading Microphone as source\n",
    "# listening the speech and store in audio_text variable\n",
    "r = sr.Recognizer()\n",
    "\n",
    "with sr.Microphone() as source:\n",
    "    print(\"speak..\")\n",
    "    audio_text = r.listen(source)\n",
    "# recoginize_() method will throw a request error if the API is unreachable, hence using exception handling\n",
    "    \n",
    "    try:\n",
    "        # using google speech recognition\n",
    "        print(\"Text: \"+r.recognize_google(audio_text))\n",
    "        search.send_keys(r.recognize_google(audio_text))\n",
    "        browser.find_element_by_class_name(\"gNO89b\").click()\n",
    "    except:\n",
    "         print(\"Sorry, I did not get that\")"
   ]
  },
  {
   "cell_type": "markdown",
   "metadata": {},
   "source": [
    "### using webbrowser to open browser"
   ]
  },
  {
   "cell_type": "code",
   "execution_count": 67,
   "metadata": {},
   "outputs": [
    {
     "name": "stdout",
     "output_type": "stream",
     "text": [
      "Please say something \n",
      "Reconizing Now ... \n",
      "You have said : google.com\n"
     ]
    }
   ],
   "source": [
    "path = \"C:/Program Files (x86)/Google/Chrome/Application/chrome.exe %s\"\n",
    "\n",
    "\n",
    "r = sr.Recognizer()\n",
    "\n",
    "with sr.Microphone() as source:\n",
    "    r.adjust_for_ambient_noise(source)\n",
    "\n",
    "    print(\"Please say something \")\n",
    "\n",
    "    audio = r.listen(source)\n",
    "\n",
    "    print(\"Reconizing Now ... \")\n",
    "\n",
    "    try:\n",
    "        dest = r.recognize_google(audio)\n",
    "        print(\"You have said : \" + dest)\n",
    "\n",
    "        wb.get(path).open(dest)\n",
    "\n",
    "    except Exception as e:\n",
    "        print(\"Error : \" + str(e))\n"
   ]
  },
  {
   "cell_type": "code",
   "execution_count": null,
   "metadata": {},
   "outputs": [],
   "source": []
  }
 ],
 "metadata": {
  "kernelspec": {
   "display_name": "Python 3",
   "language": "python",
   "name": "python3"
  },
  "language_info": {
   "codemirror_mode": {
    "name": "ipython",
    "version": 3
   },
   "file_extension": ".py",
   "mimetype": "text/x-python",
   "name": "python",
   "nbconvert_exporter": "python",
   "pygments_lexer": "ipython3",
   "version": "3.7.6"
  }
 },
 "nbformat": 4,
 "nbformat_minor": 4
}
